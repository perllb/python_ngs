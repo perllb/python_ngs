{
 "cells": [
  {
   "cell_type": "code",
   "execution_count": 1,
   "metadata": {
    "collapsed": true
   },
   "outputs": [],
   "source": [
    "#!~/anaconda3/bin/python\n",
    "import sys, getopt\n",
    "import pandas as pd\n",
    "import numpy as np\n",
    "import os.path\n",
    "import sys"
   ]
  },
  {
   "cell_type": "code",
   "execution_count": 2,
   "metadata": {
    "collapsed": true
   },
   "outputs": [],
   "source": [
    "\n",
    "def printUsage():\n",
    "    print ('usage: \\n> python bedToGtf.py -i <bed-file to convert> -f <features> -a <annotation> -l <level> -o <outfile (optional)>')\n",
    "    print ('-f <feature> : What will you call ID (e.g. gene_name)')\n",
    "    print ('-a <annotation> : What annotation database is it? (e.g. RepeatMasker)')\n",
    "    print ('-l <level> : What type of feature is it? (e.g. exon)')\n",
    "    print ('-o <outfile> : Name of out gtf file. Optional, and a suitable name will be given if not specified.')\n"
   ]
  },
  {
   "cell_type": "code",
   "execution_count": 79,
   "metadata": {},
   "outputs": [],
   "source": [
    "bedname = '/home/pbrattaas/genomicData/gencode/panTro5/gencode.v27.pt5.lift_from_hg38.exon.transcript_name.bed'\n",
    "feature = 'tr_name'\n",
    "ann = 'gencode.v27'\n",
    "level = 'exon'\n",
    "outfile = None\n",
    "outArg = 'F'"
   ]
  },
  {
   "cell_type": "code",
   "execution_count": 80,
   "metadata": {},
   "outputs": [],
   "source": [
    "while not os.path.isfile(bedname) :\n",
    "    print(\"> '\" + bedname + \"' does not exist..\")\n",
    "    bedname = input(\">> Please enter BED file to convert to GTF or exit ('q'): \")\n",
    "    if bedname == 'q':\n",
    "        sys.exit()"
   ]
  },
  {
   "cell_type": "code",
   "execution_count": 81,
   "metadata": {},
   "outputs": [
    {
     "data": {
      "text/plain": [
       "'/home/pbrattaas/genomicData/gencode/panTro5/gencode.v27.pt5.lift_from_hg38.exon.transcript_name.bed'"
      ]
     },
     "execution_count": 81,
     "metadata": {},
     "output_type": "execute_result"
    }
   ],
   "source": [
    "bedname"
   ]
  },
  {
   "cell_type": "code",
   "execution_count": 82,
   "metadata": {},
   "outputs": [
    {
     "name": "stdout",
     "output_type": "stream",
     "text": [
      "> /home/pbrattaas/genomicData/gencode/panTro5/gencode.v27.pt5.lift_from_hg38.exon.transcript_name.bed will be converted to GTF\n",
      "> Reading bed file '/home/pbrattaas/genomicData/gencode/panTro5/gencode.v27.pt5.lift_from_hg38.exon.transcript_name.bed..\n",
      "> Finished reading bed file '/home/pbrattaas/genomicData/gencode/panTro5/gencode.v27.pt5.lift_from_hg38.exon.transcript_name.bed!\n"
     ]
    }
   ],
   "source": [
    "print(\"> \" + bedname + \" will be converted to GTF\")\n",
    "print(\"> Reading bed file '\" + bedname + \"..\")\n",
    "bed = pd.read_csv(bedname,sep='\\t',header=None,comment='#')\n",
    "print(\"> Finished reading bed file '\" + bedname + \"!\")"
   ]
  },
  {
   "cell_type": "code",
   "execution_count": 83,
   "metadata": {},
   "outputs": [],
   "source": [
    "featureVec = np.repeat(feature + ' \\\"',len(bed[0]))\n",
    "last = np.repeat('\\\"',len(bed[0]))\n"
   ]
  },
  {
   "cell_type": "code",
   "execution_count": 109,
   "metadata": {},
   "outputs": [],
   "source": [
    "vec2 = np.core.defchararray.add(featureVec,bed[3])\n",
    "vec3 = np.core.defchararray.add(vec2,last)"
   ]
  },
  {
   "cell_type": "code",
   "execution_count": 110,
   "metadata": {},
   "outputs": [
    {
     "data": {
      "text/plain": [
       "(1188936,)"
      ]
     },
     "execution_count": 110,
     "metadata": {},
     "output_type": "execute_result"
    }
   ],
   "source": [
    "featureVec.shape"
   ]
  },
  {
   "cell_type": "code",
   "execution_count": 111,
   "metadata": {},
   "outputs": [
    {
     "data": {
      "text/plain": [
       "str"
      ]
     },
     "execution_count": 111,
     "metadata": {},
     "output_type": "execute_result"
    }
   ],
   "source": [
    "type(bed[3][2])"
   ]
  },
  {
   "cell_type": "code",
   "execution_count": 112,
   "metadata": {},
   "outputs": [
    {
     "data": {
      "text/plain": [
       "str"
      ]
     },
     "execution_count": 112,
     "metadata": {},
     "output_type": "execute_result"
    }
   ],
   "source": [
    "type(bed[3][2])"
   ]
  },
  {
   "cell_type": "code",
   "execution_count": 113,
   "metadata": {},
   "outputs": [
    {
     "data": {
      "text/plain": [
       "(1188936,)"
      ]
     },
     "execution_count": 113,
     "metadata": {},
     "output_type": "execute_result"
    }
   ],
   "source": [
    "vec2.shape"
   ]
  },
  {
   "cell_type": "code",
   "execution_count": 114,
   "metadata": {},
   "outputs": [
    {
     "data": {
      "text/plain": [
       "array(['tr_name \"DDX11L1-', 'tr_name \"DDX11L1-', 'tr_name \"DDX11L1-',\n",
       "       'tr_name \"DDX11L1-', 'tr_name \"DDX11L1-', 'tr_name \"DDX11L1-',\n",
       "       'tr_name \"DDX11L1-', 'tr_name \"DDX11L1-', 'tr_name \"WASH7P-2'],\n",
       "      dtype='<U17')"
      ]
     },
     "execution_count": 114,
     "metadata": {},
     "output_type": "execute_result"
    }
   ],
   "source": [
    "vec2[1:10]"
   ]
  },
  {
   "cell_type": "code",
   "execution_count": 115,
   "metadata": {},
   "outputs": [
    {
     "data": {
      "text/plain": [
       "1     DDX11L1-202\n",
       "2     DDX11L1-202\n",
       "3     DDX11L1-201\n",
       "4     DDX11L1-201\n",
       "5     DDX11L1-201\n",
       "6     DDX11L1-201\n",
       "7     DDX11L1-201\n",
       "8     DDX11L1-201\n",
       "9      WASH7P-201\n",
       "10     WASH7P-201\n",
       "11     WASH7P-201\n",
       "12     WASH7P-201\n",
       "13     WASH7P-201\n",
       "14     WASH7P-201\n",
       "15     WASH7P-201\n",
       "16     WASH7P-201\n",
       "17     WASH7P-201\n",
       "18     WASH7P-201\n",
       "19     WASH7P-201\n",
       "Name: 3, dtype: object"
      ]
     },
     "execution_count": 115,
     "metadata": {},
     "output_type": "execute_result"
    }
   ],
   "source": [
    "bed[3][1:20]"
   ]
  },
  {
   "cell_type": "code",
   "execution_count": 116,
   "metadata": {},
   "outputs": [
    {
     "data": {
      "text/plain": [
       "'tr_name \"DDX11L1-'"
      ]
     },
     "execution_count": 116,
     "metadata": {},
     "output_type": "execute_result"
    }
   ],
   "source": [
    "vec2[3]"
   ]
  },
  {
   "cell_type": "code",
   "execution_count": 117,
   "metadata": {},
   "outputs": [
    {
     "data": {
      "text/plain": [
       "'tr_name \"LINC0112\"'"
      ]
     },
     "execution_count": 117,
     "metadata": {},
     "output_type": "execute_result"
    }
   ],
   "source": [
    "vec3[400]"
   ]
  },
  {
   "cell_type": "code",
   "execution_count": null,
   "metadata": {},
   "outputs": [],
   "source": [
    "df1 = pd.DataFrame(bed[0],np.repeat(ann,len(bed[0])),np.repeat(level,len(bed[0])),bed[1],bed[2],bed[4],bed[5],bed[4])"
   ]
  },
  {
   "cell_type": "code",
   "execution_count": null,
   "metadata": {
    "collapsed": true
   },
   "outputs": [],
   "source": [
    "df2 = pd.DataFrame(vec3)"
   ]
  },
  {
   "cell_type": "code",
   "execution_count": null,
   "metadata": {
    "collapsed": true
   },
   "outputs": [],
   "source": [
    "gtf = pd.concat([df1,df2],axis=1)"
   ]
  },
  {
   "cell_type": "code",
   "execution_count": 59,
   "metadata": {
    "collapsed": true
   },
   "outputs": [],
   "source": [
    "ta = bed[3][1:10]\n",
    "tb = "
   ]
  },
  {
   "cell_type": "code",
   "execution_count": 60,
   "metadata": {},
   "outputs": [
    {
     "data": {
      "text/plain": [
       "array(['aw-12', 'bx-213', 'cxx', 'dyy'],\n",
       "      dtype='<U6')"
      ]
     },
     "execution_count": 60,
     "metadata": {},
     "output_type": "execute_result"
    }
   ],
   "source": [
    "np.core.defchararray.add(ta,tb)"
   ]
  },
  {
   "cell_type": "code",
   "execution_count": null,
   "metadata": {
    "collapsed": true
   },
   "outputs": [],
   "source": []
  }
 ],
 "metadata": {
  "kernelspec": {
   "display_name": "Python 3",
   "language": "python",
   "name": "python3"
  },
  "language_info": {
   "codemirror_mode": {
    "name": "ipython",
    "version": 3
   },
   "file_extension": ".py",
   "mimetype": "text/x-python",
   "name": "python",
   "nbconvert_exporter": "python",
   "pygments_lexer": "ipython3",
   "version": "3.6.3"
  }
 },
 "nbformat": 4,
 "nbformat_minor": 2
}
